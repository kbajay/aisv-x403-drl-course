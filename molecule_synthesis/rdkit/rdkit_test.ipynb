{
 "cells": [
  {
   "cell_type": "code",
   "execution_count": 19,
   "id": "0648fa79",
   "metadata": {},
   "outputs": [],
   "source": [
    "from rdkit import Chem\n",
    "from rdkit.Chem import Draw"
   ]
  },
  {
   "cell_type": "code",
   "execution_count": 2,
   "id": "f7222e9e",
   "metadata": {},
   "outputs": [],
   "source": [
    "m = Chem.MolFromSmiles('Cc1ccccc1')"
   ]
  },
  {
   "cell_type": "code",
   "execution_count": 3,
   "id": "1a841277",
   "metadata": {},
   "outputs": [
    {
     "data": {
      "text/plain": [
       "rdkit.Chem.rdchem.Mol"
      ]
     },
     "execution_count": 3,
     "metadata": {},
     "output_type": "execute_result"
    }
   ],
   "source": [
    "type(m)"
   ]
  },
  {
   "cell_type": "code",
   "execution_count": 4,
   "id": "26122336",
   "metadata": {},
   "outputs": [],
   "source": [
    "ms = Chem.MolToSmiles(m)"
   ]
  },
  {
   "cell_type": "code",
   "execution_count": 5,
   "id": "9b87f26e",
   "metadata": {},
   "outputs": [
    {
     "data": {
      "text/plain": [
       "str"
      ]
     },
     "execution_count": 5,
     "metadata": {},
     "output_type": "execute_result"
    }
   ],
   "source": [
    "type(ms)"
   ]
  },
  {
   "cell_type": "code",
   "execution_count": 6,
   "id": "cc988a55",
   "metadata": {
    "scrolled": true
   },
   "outputs": [
    {
     "name": "stdout",
     "output_type": "stream",
     "text": [
      "Cc1ccccc1\n"
     ]
    }
   ],
   "source": [
    "print(ms)"
   ]
  },
  {
   "cell_type": "code",
   "execution_count": 8,
   "id": "95c4f041",
   "metadata": {},
   "outputs": [
    {
     "name": "stdout",
     "output_type": "stream",
     "text": [
      "ChEMBL.FL.smi\r\n"
     ]
    }
   ],
   "source": [
    "!ls ~/data/molsynth"
   ]
  },
  {
   "cell_type": "code",
   "execution_count": 14,
   "id": "32b445cc",
   "metadata": {},
   "outputs": [],
   "source": [
    "suppl = Chem.SmilesMolSupplier(\"/home/ajay/data/molsynth/ChEMBL.FL.smi\")"
   ]
  },
  {
   "cell_type": "code",
   "execution_count": 15,
   "id": "02d671a1",
   "metadata": {},
   "outputs": [
    {
     "data": {
      "text/plain": [
       "<rdkit.Chem.rdchem.Mol at 0x7f51853a0c40>"
      ]
     },
     "execution_count": 15,
     "metadata": {},
     "output_type": "execute_result"
    }
   ],
   "source": [
    "suppl[0]"
   ]
  },
  {
   "cell_type": "code",
   "execution_count": 16,
   "id": "74e73b8b",
   "metadata": {},
   "outputs": [
    {
     "data": {
      "text/plain": [
       "rdkit.Chem.rdmolfiles.SmilesMolSupplier"
      ]
     },
     "execution_count": 16,
     "metadata": {},
     "output_type": "execute_result"
    }
   ],
   "source": [
    "type(suppl)"
   ]
  },
  {
   "cell_type": "code",
   "execution_count": 17,
   "id": "8f834232",
   "metadata": {},
   "outputs": [
    {
     "data": {
      "text/plain": [
       "10368"
      ]
     },
     "execution_count": 17,
     "metadata": {},
     "output_type": "execute_result"
    }
   ],
   "source": [
    "len(suppl)"
   ]
  },
  {
   "cell_type": "code",
   "execution_count": 28,
   "id": "eb54e386",
   "metadata": {},
   "outputs": [
    {
     "data": {
      "image/png": "[encoded data removed]",
      "text/plain": [
       "<PIL.Image.Image image mode=RGBA size=200x200 at 0x7F5184D9FD60>"
      ]
     },
     "execution_count": 28,
     "metadata": {},
     "output_type": "execute_result"
    }
   ],
   "source": [
    "Draw.MolsToImage([suppl[0]])"
   ]
  },
  {
   "cell_type": "code",
   "execution_count": 29,
   "id": "93858448",
   "metadata": {},
   "outputs": [
    {
     "data": {
      "image/png": "[encoded data removed]",
      "text/plain": [
       "<PIL.Image.Image image mode=RGBA size=200x200 at 0x7F5184D9FC70>"
      ]
     },
     "execution_count": 29,
     "metadata": {},
     "output_type": "execute_result"
    }
   ],
   "source": [
    "Draw.MolsToImage([suppl[100]])"
   ]
  },
  {
   "cell_type": "code",
   "execution_count": null,
   "id": "fdbd9354",
   "metadata": {},
   "outputs": [],
   "source": []
  }
 ],
 "metadata": {
  "kernelspec": {
   "display_name": "Python 3 (ipykernel)",
   "language": "python",
   "name": "python3"
  },
  "language_info": {
   "codemirror_mode": {
    "name": "ipython",
    "version": 3
   },
   "file_extension": ".py",
   "mimetype": "text/x-python",
   "name": "python",
   "nbconvert_exporter": "python",
   "pygments_lexer": "ipython3",
   "version": "3.8.10"
  }
 },
 "nbformat": 4,
 "nbformat_minor": 5
}
